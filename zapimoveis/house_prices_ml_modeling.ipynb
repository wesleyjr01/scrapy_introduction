{
 "cells": [
  {
   "cell_type": "code",
   "execution_count": 1,
   "metadata": {},
   "outputs": [],
   "source": [
    "import json\n",
    "import pandas as pd\n",
    "import seaborn as sns\n",
    "# pd.set_option('display.max_rows', None)"
   ]
  },
  {
   "cell_type": "code",
   "execution_count": 2,
   "metadata": {},
   "outputs": [],
   "source": [
    "with open(\"output.json\") as r:\n",
    "    js = json.load(r)"
   ]
  },
  {
   "cell_type": "code",
   "execution_count": 3,
   "metadata": {},
   "outputs": [],
   "source": [
    "data = pd.DataFrame(js)"
   ]
  },
  {
   "cell_type": "code",
   "execution_count": 4,
   "metadata": {},
   "outputs": [
    {
     "data": {
      "text/html": [
       "<div>\n",
       "<style scoped>\n",
       "    .dataframe tbody tr th:only-of-type {\n",
       "        vertical-align: middle;\n",
       "    }\n",
       "\n",
       "    .dataframe tbody tr th {\n",
       "        vertical-align: top;\n",
       "    }\n",
       "\n",
       "    .dataframe thead th {\n",
       "        text-align: right;\n",
       "    }\n",
       "</style>\n",
       "<table border=\"1\" class=\"dataframe\">\n",
       "  <thead>\n",
       "    <tr style=\"text-align: right;\">\n",
       "      <th></th>\n",
       "      <th>request_url</th>\n",
       "      <th>url</th>\n",
       "      <th>price</th>\n",
       "      <th>iptu</th>\n",
       "      <th>address</th>\n",
       "      <th>size</th>\n",
       "      <th>rooms</th>\n",
       "      <th>garages</th>\n",
       "      <th>bathroom</th>\n",
       "      <th>agency</th>\n",
       "      <th>type</th>\n",
       "      <th>relevance</th>\n",
       "    </tr>\n",
       "  </thead>\n",
       "  <tbody>\n",
       "    <tr>\n",
       "      <th>0</th>\n",
       "      <td>https://www.zapimoveis.com.br/venda/casas/sc+f...</td>\n",
       "      <td>None</td>\n",
       "      <td>6.000.000</td>\n",
       "      <td>6.000</td>\n",
       "      <td>Largo dos Acarais, Jurerê Internacional</td>\n",
       "      <td>800</td>\n",
       "      <td>5</td>\n",
       "      <td>2</td>\n",
       "      <td>5</td>\n",
       "      <td>None</td>\n",
       "      <td>list</td>\n",
       "      <td>Super destaque</td>\n",
       "    </tr>\n",
       "    <tr>\n",
       "      <th>1</th>\n",
       "      <td>https://www.zapimoveis.com.br/venda/casas/sc+f...</td>\n",
       "      <td>None</td>\n",
       "      <td>2.600.000</td>\n",
       "      <td>not text</td>\n",
       "      <td>Rua das Piraúnas, Jurerê Internacional</td>\n",
       "      <td>300</td>\n",
       "      <td>4</td>\n",
       "      <td>5</td>\n",
       "      <td>4</td>\n",
       "      <td>None</td>\n",
       "      <td>list</td>\n",
       "      <td>Super destaque</td>\n",
       "    </tr>\n",
       "    <tr>\n",
       "      <th>2</th>\n",
       "      <td>https://www.zapimoveis.com.br/venda/casas/sc+f...</td>\n",
       "      <td>None</td>\n",
       "      <td>1.930.000</td>\n",
       "      <td>2.800</td>\n",
       "      <td>Rua Itapuã, Itacorubi</td>\n",
       "      <td>430</td>\n",
       "      <td>6</td>\n",
       "      <td>4</td>\n",
       "      <td>6</td>\n",
       "      <td>None</td>\n",
       "      <td>list</td>\n",
       "      <td>Super destaque</td>\n",
       "    </tr>\n",
       "    <tr>\n",
       "      <th>3</th>\n",
       "      <td>https://www.zapimoveis.com.br/venda/casas/sc+f...</td>\n",
       "      <td>None</td>\n",
       "      <td>1.050.000</td>\n",
       "      <td>1.300</td>\n",
       "      <td>Rua Waldemiro José Carlson, Canasvieiras</td>\n",
       "      <td>250</td>\n",
       "      <td>5</td>\n",
       "      <td>4</td>\n",
       "      <td>4</td>\n",
       "      <td>None</td>\n",
       "      <td>list</td>\n",
       "      <td>Destaque</td>\n",
       "    </tr>\n",
       "    <tr>\n",
       "      <th>4</th>\n",
       "      <td>https://www.zapimoveis.com.br/venda/casas/sc+f...</td>\n",
       "      <td>None</td>\n",
       "      <td>424.000</td>\n",
       "      <td>300</td>\n",
       "      <td>Servidão Ester Gonçalves, São João do Rio Verm...</td>\n",
       "      <td>200</td>\n",
       "      <td>2</td>\n",
       "      <td>4</td>\n",
       "      <td>2</td>\n",
       "      <td>None</td>\n",
       "      <td>list</td>\n",
       "      <td>Destaque</td>\n",
       "    </tr>\n",
       "  </tbody>\n",
       "</table>\n",
       "</div>"
      ],
      "text/plain": [
       "                                         request_url   url      price  \\\n",
       "0  https://www.zapimoveis.com.br/venda/casas/sc+f...  None  6.000.000   \n",
       "1  https://www.zapimoveis.com.br/venda/casas/sc+f...  None  2.600.000   \n",
       "2  https://www.zapimoveis.com.br/venda/casas/sc+f...  None  1.930.000   \n",
       "3  https://www.zapimoveis.com.br/venda/casas/sc+f...  None  1.050.000   \n",
       "4  https://www.zapimoveis.com.br/venda/casas/sc+f...  None    424.000   \n",
       "\n",
       "       iptu                                            address size rooms  \\\n",
       "0     6.000            Largo dos Acarais, Jurerê Internacional  800     5   \n",
       "1  not text             Rua das Piraúnas, Jurerê Internacional  300     4   \n",
       "2     2.800                              Rua Itapuã, Itacorubi  430     6   \n",
       "3     1.300           Rua Waldemiro José Carlson, Canasvieiras  250     5   \n",
       "4       300  Servidão Ester Gonçalves, São João do Rio Verm...  200     2   \n",
       "\n",
       "  garages bathroom agency  type       relevance  \n",
       "0       2        5   None  list  Super destaque  \n",
       "1       5        4   None  list  Super destaque  \n",
       "2       4        6   None  list  Super destaque  \n",
       "3       4        4   None  list        Destaque  \n",
       "4       4        2   None  list        Destaque  "
      ]
     },
     "execution_count": 4,
     "metadata": {},
     "output_type": "execute_result"
    }
   ],
   "source": [
    "data.head(5)"
   ]
  },
  {
   "cell_type": "code",
   "execution_count": 5,
   "metadata": {},
   "outputs": [
    {
     "data": {
      "text/plain": [
       "'https://www.zapimoveis.com.br/venda/casas/sc+florianopolis/?pagina=1'"
      ]
     },
     "execution_count": 5,
     "metadata": {},
     "output_type": "execute_result"
    }
   ],
   "source": [
    "data.loc[0, \"request_url\"]"
   ]
  },
  {
   "cell_type": "code",
   "execution_count": 6,
   "metadata": {},
   "outputs": [
    {
     "data": {
      "text/plain": [
       "(10032, 12)"
      ]
     },
     "execution_count": 6,
     "metadata": {},
     "output_type": "execute_result"
    }
   ],
   "source": [
    "data.shape"
   ]
  },
  {
   "cell_type": "code",
   "execution_count": 7,
   "metadata": {},
   "outputs": [
    {
     "data": {
      "text/plain": [
       "Index(['request_url', 'url', 'price', 'iptu', 'address', 'size', 'rooms',\n",
       "       'garages', 'bathroom', 'agency', 'type', 'relevance'],\n",
       "      dtype='object')"
      ]
     },
     "execution_count": 7,
     "metadata": {},
     "output_type": "execute_result"
    }
   ],
   "source": [
    "data.columns"
   ]
  },
  {
   "cell_type": "markdown",
   "metadata": {},
   "source": [
    "### Adress"
   ]
  },
  {
   "cell_type": "code",
   "execution_count": 8,
   "metadata": {},
   "outputs": [
    {
     "data": {
      "text/plain": [
       "Ingleses do Rio Vermelho, Florianópolis                0.070076\n",
       "Campeche, Florianópolis                                0.056719\n",
       "São João do Rio Vermelho, Florianópolis                0.042863\n",
       "Jurerê Internacional, Florianópolis                    0.032097\n",
       "Lagoa da Conceição, Florianópolis                      0.017444\n",
       "                                                         ...   \n",
       "Servidão dos Bambuzais, Ribeirão da Ilha               0.000100\n",
       "Servidão Aroldo Waldemiro Martins, Ribeirão da Ilha    0.000100\n",
       "Rua do Prado, Vargem Grande                            0.000100\n",
       "Rua Maria Claudino da Cruz, Capoeiras                  0.000100\n",
       "Rua dos Chernes, Jurerê                                0.000100\n",
       "Name: address, Length: 1402, dtype: float64"
      ]
     },
     "execution_count": 8,
     "metadata": {},
     "output_type": "execute_result"
    }
   ],
   "source": [
    "data[\"address\"].value_counts(10)"
   ]
  },
  {
   "cell_type": "code",
   "execution_count": 9,
   "metadata": {},
   "outputs": [],
   "source": [
    "def map_bairro(data):\n",
    "    data[\"bairro\"] = \"nao_identificado\"\n",
    "    data.loc[data[\"address\"].str.contains(\"campeche\", case=False), \"bairro\"] = \"campeche\"\n",
    "    data.loc[data[\"address\"].str.contains(\"morro das pedras\", case=False), \"bairro\"] = \"morro_das_pedras\"\n",
    "    data.loc[data[\"address\"].str.contains(\"ingleses\", case=False), \"bairro\"] = \"ingleses\"\n",
    "    data.loc[data[\"address\"].str.contains(\"lagoa\", case=False), \"bairro\"] = \"lagoa\"\n",
    "    data.loc[data[\"address\"].str.contains(\"costeira\", case=False), \"bairro\"] = \"costeira\"\n",
    "    data.loc[data[\"address\"].str.contains(\"tapera\", case=False), \"bairro\"] = \"tapera\"\n",
    "    data.loc[data[\"address\"].str.contains(\"p.ntanal\", case=False), \"bairro\"] = \"pantanal\"\n",
    "    data.loc[data[\"address\"].str.contains(\"p.ntano\", case=False), \"bairro\"] = \"pantano\"\n",
    "    data.loc[data[\"address\"].str.contains(\"centro\", case=False), \"bairro\"] = \"centro\"\n",
    "    data.loc[data[\"address\"].str.contains(\"jurer.\", case=False), \"bairro\"] = \"jurere\"\n",
    "    data.loc[data[\"address\"].str.contains(\"trindade\", case=False), \"bairro\"] = \"trindade\"\n",
    "    data.loc[data[\"address\"].str.contains(\"c.rrego grande\", case=False), \"bairro\"] = \"corrego_grande\"\n",
    "    data.loc[data[\"address\"].str.contains(\"cac.p.\", case=False), \"bairro\"] = \"cacupe\"\n",
    "    data.loc[data[\"address\"].str.contains(\"carvoeira\", case=False), \"bairro\"] = \"carvoeira\"\n",
    "    data.loc[data[\"address\"].str.contains(\"itacorubi\", case=False), \"bairro\"] = \"itacorubi\"\n",
    "    data.loc[data[\"address\"].str.contains(\"ribeir.o\", case=False), \"bairro\"] = \"ribeirao\"\n",
    "    data.loc[data[\"address\"].str.contains(\"itagua.u\", case=False), \"bairro\"] = \"itaguacu\"\n",
    "    data.loc[data[\"address\"].str.contains(\"estreito\", case=False), \"bairro\"] = \"estreito\"\n",
    "    data.loc[data[\"address\"].str.contains(\"daniela\", case=False), \"bairro\"] = \"daniela\"\n",
    "    data.loc[data[\"address\"].str.contains(\"canasvieiras\", case=False), \"bairro\"] = \"canasvieiras\"\n",
    "    data.loc[data[\"address\"].str.contains(\"coqueiros\", case=False), \"bairro\"] = \"coqueiros\"\n",
    "    data.loc[data[\"address\"].str.contains(\"capoeiras\", case=False), \"bairro\"] = \"capoeiras\"\n",
    "    data.loc[data[\"address\"].str.contains(\"saco grande\", case=False), \"bairro\"] = \"saco grande\"\n",
    "    data.loc[data[\"address\"].str.contains(\"cachoeira\", case=False), \"bairro\"] = \"cachoeira\"\n",
    "    data.loc[data[\"address\"].str.contains(\"praia mole\", case=False), \"bairro\"] = \"praia_mole\"\n",
    "    data.loc[data[\"address\"].str.contains(\"carianos\", case=False), \"bairro\"] = \"carianos\"\n",
    "    data.loc[data[\"address\"].str.contains(\"m.nica\", case=False), \"bairro\"] = \"monica\"\n",
    "    data.loc[data[\"address\"].str.contains(\"jo.o paulo\", case=False), \"bairro\"] = \"joao_paulo\"\n",
    "    data.loc[data[\"address\"].str.contains(\"s.o jorge\", case=False), \"bairro\"] = \"sao_jorge\"\n",
    "    data.loc[data[\"address\"].str.contains(\"sambaqui\", case=False), \"bairro\"] = \"sambaqui\"\n",
    "    data.loc[data[\"address\"].str.contains(\"ratones\", case=False), \"bairro\"] = \"ratones\"\n",
    "    data.loc[data[\"address\"].str.contains(\"jardim atl.ntico\", case=False), \"bairro\"] = \"jardim_atlantico\"\n",
    "    data.loc[data[\"address\"].str.contains(\"rio tavares\", case=False), \"bairro\"] = \"rio tavares\"\n",
    "    data.loc[data[\"address\"].str.contains(\"agron.mica\", case=False), \"bairro\"] = \"agronomica\"\n",
    "    data.loc[data[\"address\"].str.contains(\"saco dos lim.es\", case=False), \"bairro\"] = \"saco_dos_limoes\"\n",
    "    data.loc[data[\"address\"].str.contains(\"s.o jo.o do rio vermelho\", case=False), \"bairro\"] = \"sao_joao_do_rio_vermelho\"\n",
    "    data.loc[data[\"address\"].str.contains(\"santo ant.nio\", case=False), \"bairro\"] = \"santo_antonio_de_lisboa\"\n",
    "    "
   ]
  },
  {
   "cell_type": "code",
   "execution_count": 10,
   "metadata": {},
   "outputs": [],
   "source": [
    "map_bairro(data)"
   ]
  },
  {
   "cell_type": "code",
   "execution_count": 11,
   "metadata": {},
   "outputs": [
    {
     "data": {
      "text/plain": [
       "ingleses                    0.137659\n",
       "campeche                    0.120116\n",
       "jurere                      0.093900\n",
       "sao_joao_do_rio_vermelho    0.073864\n",
       "nao_identificado            0.059410\n",
       "lagoa                       0.050738\n",
       "cachoeira                   0.038776\n",
       "canasvieiras                0.031499\n",
       "monica                      0.027711\n",
       "ribeirao                    0.025419\n",
       "corrego_grande              0.023824\n",
       "rio tavares                 0.022528\n",
       "itacorubi                   0.020833\n",
       "jardim_atlantico            0.020435\n",
       "centro                      0.020235\n",
       "trindade                    0.018341\n",
       "pantano                     0.017843\n",
       "carianos                    0.017644\n",
       "capoeiras                   0.017544\n",
       "itaguacu                    0.015849\n",
       "joao_paulo                  0.015550\n",
       "estreito                    0.014454\n",
       "sao_jorge                   0.013457\n",
       "coqueiros                   0.012759\n",
       "pantanal                    0.010167\n",
       "agronomica                  0.009370\n",
       "saco_dos_limoes             0.009370\n",
       "carvoeira                   0.009071\n",
       "santo_antonio_de_lisboa     0.007974\n",
       "cacupe                      0.007775\n",
       "morro_das_pedras            0.006878\n",
       "daniela                     0.006380\n",
       "tapera                      0.006081\n",
       "sambaqui                    0.005582\n",
       "saco grande                 0.003987\n",
       "costeira                    0.003389\n",
       "praia_mole                  0.001894\n",
       "ratones                     0.001695\n",
       "Name: bairro, dtype: float64"
      ]
     },
     "execution_count": 11,
     "metadata": {},
     "output_type": "execute_result"
    }
   ],
   "source": [
    "data[\"bairro\"].value_counts(50)"
   ]
  },
  {
   "cell_type": "markdown",
   "metadata": {},
   "source": [
    "### Price"
   ]
  },
  {
   "cell_type": "code",
   "execution_count": 12,
   "metadata": {},
   "outputs": [
    {
     "data": {
      "text/plain": [
       "0    6.000.000\n",
       "1    2.600.000\n",
       "2    1.930.000\n",
       "3    1.050.000\n",
       "4      424.000\n",
       "Name: price, dtype: object"
      ]
     },
     "execution_count": 12,
     "metadata": {},
     "output_type": "execute_result"
    }
   ],
   "source": [
    "data[\"price\"].head()"
   ]
  },
  {
   "cell_type": "code",
   "execution_count": 13,
   "metadata": {},
   "outputs": [],
   "source": [
    "def format_price(df, variable=\"price\"):\n",
    "    df[variable] = df[variable].str.replace(\".\", \"\")\n",
    "    df[variable] = df[variable].astype(float)"
   ]
  },
  {
   "cell_type": "code",
   "execution_count": 14,
   "metadata": {},
   "outputs": [],
   "source": [
    "format_price(data, variable=\"price\")"
   ]
  },
  {
   "cell_type": "code",
   "execution_count": 15,
   "metadata": {},
   "outputs": [
    {
     "data": {
      "text/plain": [
       "0    6000000.0\n",
       "1    2600000.0\n",
       "2    1930000.0\n",
       "3    1050000.0\n",
       "4     424000.0\n",
       "Name: price, dtype: float64"
      ]
     },
     "execution_count": 15,
     "metadata": {},
     "output_type": "execute_result"
    }
   ],
   "source": [
    "data[\"price\"].head()"
   ]
  },
  {
   "cell_type": "code",
   "execution_count": 16,
   "metadata": {},
   "outputs": [
    {
     "data": {
      "text/plain": [
       "count    1.003200e+04\n",
       "mean     1.318570e+06\n",
       "std      1.693841e+06\n",
       "min      1.500000e+04\n",
       "25%      5.830000e+05\n",
       "50%      8.700000e+05\n",
       "75%      1.448820e+06\n",
       "max      3.700000e+07\n",
       "Name: price, dtype: float64"
      ]
     },
     "execution_count": 16,
     "metadata": {},
     "output_type": "execute_result"
    }
   ],
   "source": [
    "data[\"price\"].describe()"
   ]
  },
  {
   "cell_type": "code",
   "execution_count": 17,
   "metadata": {},
   "outputs": [
    {
     "data": {
      "text/plain": [
       "<AxesSubplot:xlabel='price'>"
      ]
     },
     "execution_count": 17,
     "metadata": {},
     "output_type": "execute_result"
    },
    {
     "data": {
      "image/png": "[encoded data removed]",
      "text/plain": [
       "<Figure size 432x288 with 1 Axes>"
      ]
     },
     "metadata": {
      "needs_background": "light"
     },
     "output_type": "display_data"
    }
   ],
   "source": [
    "sns.distplot(data[\"price\"])"
   ]
  },
  {
   "cell_type": "code",
   "execution_count": 18,
   "metadata": {},
   "outputs": [
    {
     "data": {
      "text/plain": [
       "count    1.205000e+03\n",
       "mean     9.509603e+05\n",
       "std      5.075799e+05\n",
       "min      2.300000e+05\n",
       "25%      6.698700e+05\n",
       "50%      7.980000e+05\n",
       "75%      1.100000e+06\n",
       "max      5.000000e+06\n",
       "Name: price, dtype: float64"
      ]
     },
     "execution_count": 18,
     "metadata": {},
     "output_type": "execute_result"
    }
   ],
   "source": [
    "data.loc[data[\"bairro\"] == \"campeche\", \"price\"].describe()"
   ]
  },
  {
   "cell_type": "code",
   "execution_count": 19,
   "metadata": {},
   "outputs": [
    {
     "data": {
      "text/plain": [
       "<AxesSubplot:xlabel='price'>"
      ]
     },
     "execution_count": 19,
     "metadata": {},
     "output_type": "execute_result"
    },
    {
     "data": {
      "image/png": "[encoded data removed]",
      "text/plain": [
       "<Figure size 432x288 with 1 Axes>"
      ]
     },
     "metadata": {
      "needs_background": "light"
     },
     "output_type": "display_data"
    }
   ],
   "source": [
    "sns.distplot(data.loc[data[\"bairro\"] == \"campeche\", \"price\"])"
   ]
  },
  {
   "cell_type": "markdown",
   "metadata": {},
   "source": [
    "### IPTU"
   ]
  },
  {
   "cell_type": "code",
   "execution_count": 20,
   "metadata": {},
   "outputs": [
    {
     "data": {
      "text/plain": [
       "not text    4975\n",
       "1.200        211\n",
       "1.000        161\n",
       "800          142\n",
       "500          126\n",
       "            ... \n",
       "1.603          1\n",
       "1.785          1\n",
       "693            1\n",
       "72             1\n",
       "633            1\n",
       "Name: iptu, Length: 997, dtype: int64"
      ]
     },
     "execution_count": 20,
     "metadata": {},
     "output_type": "execute_result"
    }
   ],
   "source": [
    "data[\"iptu\"].value_counts()"
   ]
  },
  {
   "cell_type": "code",
   "execution_count": 21,
   "metadata": {},
   "outputs": [],
   "source": [
    "def format_iptu(df, variable=\"iptu\"):\n",
    "    data.loc[data[variable] == \"not text\", variable] = '-9999'\n",
    "    data[variable] = data[variable].str.replace(\".\", \"\")\n",
    "    data[variable] = data[variable].astype(float)\n",
    "    data.loc[data[variable] <= 10, variable] = -9999\n",
    "    data.loc[data[variable] >= 15000, variable] = 50000"
   ]
  },
  {
   "cell_type": "code",
   "execution_count": 22,
   "metadata": {},
   "outputs": [],
   "source": [
    "format_iptu(data, variable=\"iptu\")"
   ]
  },
  {
   "cell_type": "code",
   "execution_count": 23,
   "metadata": {},
   "outputs": [
    {
     "data": {
      "text/plain": [
       "count    10032.000000\n",
       "mean     -4311.123704\n",
       "std       6445.033206\n",
       "min      -9999.000000\n",
       "25%      -9999.000000\n",
       "50%      -9999.000000\n",
       "75%        900.000000\n",
       "max      50000.000000\n",
       "Name: iptu, dtype: float64"
      ]
     },
     "execution_count": 23,
     "metadata": {},
     "output_type": "execute_result"
    }
   ],
   "source": [
    "data[\"iptu\"].describe()"
   ]
  },
  {
   "cell_type": "code",
   "execution_count": 24,
   "metadata": {},
   "outputs": [
    {
     "data": {
      "text/plain": [
       "<AxesSubplot:xlabel='iptu'>"
      ]
     },
     "execution_count": 24,
     "metadata": {},
     "output_type": "execute_result"
    },
    {
     "data": {
      "image/png": "[encoded data removed]",
      "text/plain": [
       "<Figure size 432x288 with 1 Axes>"
      ]
     },
     "metadata": {
      "needs_background": "light"
     },
     "output_type": "display_data"
    }
   ],
   "source": [
    "sns.distplot(data[\"iptu\"])"
   ]
  },
  {
   "cell_type": "markdown",
   "metadata": {},
   "source": [
    "### size"
   ]
  },
  {
   "cell_type": "code",
   "execution_count": 25,
   "metadata": {},
   "outputs": [],
   "source": [
    "data[\"size\"] = data[\"size\"].astype(float)"
   ]
  },
  {
   "cell_type": "code",
   "execution_count": 26,
   "metadata": {},
   "outputs": [
    {
     "data": {
      "text/plain": [
       "count     10032.000000\n",
       "mean        391.974980\n",
       "std        6183.363507\n",
       "min           1.000000\n",
       "25%         136.000000\n",
       "50%         203.000000\n",
       "75%         300.000000\n",
       "max      371800.000000\n",
       "Name: size, dtype: float64"
      ]
     },
     "execution_count": 26,
     "metadata": {},
     "output_type": "execute_result"
    }
   ],
   "source": [
    "data[\"size\"].astype(float).describe()"
   ]
  },
  {
   "cell_type": "code",
   "execution_count": 27,
   "metadata": {},
   "outputs": [
    {
     "data": {
      "text/plain": [
       "0"
      ]
     },
     "execution_count": 27,
     "metadata": {},
     "output_type": "execute_result"
    }
   ],
   "source": [
    "data[\"size\"].isnull().sum()"
   ]
  },
  {
   "cell_type": "markdown",
   "metadata": {},
   "source": [
    "### rooms"
   ]
  },
  {
   "cell_type": "code",
   "execution_count": 28,
   "metadata": {},
   "outputs": [],
   "source": [
    "data.loc[data[\"rooms\"] == \"not text\", \"rooms\"] = 6"
   ]
  },
  {
   "cell_type": "code",
   "execution_count": 29,
   "metadata": {},
   "outputs": [],
   "source": [
    "data[\"rooms\"] = data[\"rooms\"].astype(int)"
   ]
  },
  {
   "cell_type": "code",
   "execution_count": 30,
   "metadata": {},
   "outputs": [
    {
     "data": {
      "text/plain": [
       "3     4293\n",
       "4     2562\n",
       "2     1453\n",
       "5     1076\n",
       "6      354\n",
       "1       97\n",
       "7       86\n",
       "8       47\n",
       "10      21\n",
       "11      12\n",
       "9        8\n",
       "14       6\n",
       "12       5\n",
       "15       5\n",
       "18       3\n",
       "13       3\n",
       "16       1\n",
       "Name: rooms, dtype: int64"
      ]
     },
     "execution_count": 30,
     "metadata": {},
     "output_type": "execute_result"
    }
   ],
   "source": [
    "data[\"rooms\"].value_counts()"
   ]
  },
  {
   "cell_type": "code",
   "execution_count": 31,
   "metadata": {},
   "outputs": [
    {
     "data": {
      "text/plain": [
       "count    10032.000000\n",
       "mean         3.524123\n",
       "std          1.292917\n",
       "min          1.000000\n",
       "25%          3.000000\n",
       "50%          3.000000\n",
       "75%          4.000000\n",
       "max         18.000000\n",
       "Name: rooms, dtype: float64"
      ]
     },
     "execution_count": 31,
     "metadata": {},
     "output_type": "execute_result"
    }
   ],
   "source": [
    "data[\"rooms\"].describe()"
   ]
  },
  {
   "cell_type": "code",
   "execution_count": 32,
   "metadata": {},
   "outputs": [
    {
     "data": {
      "text/plain": [
       "716515.0"
      ]
     },
     "execution_count": 32,
     "metadata": {},
     "output_type": "execute_result"
    }
   ],
   "source": [
    "data.loc[(data[\"rooms\"] == 2) & (data[\"bairro\"] == \"campeche\"), \"price\"].mean()"
   ]
  },
  {
   "cell_type": "markdown",
   "metadata": {},
   "source": [
    "### garages"
   ]
  },
  {
   "cell_type": "code",
   "execution_count": 33,
   "metadata": {},
   "outputs": [],
   "source": [
    "data.loc[data[\"garages\"] == \"not text\", \"garages\"] = -1"
   ]
  },
  {
   "cell_type": "code",
   "execution_count": 34,
   "metadata": {},
   "outputs": [],
   "source": [
    "data[\"garages\"] = data[\"garages\"].astype(int)"
   ]
  },
  {
   "cell_type": "code",
   "execution_count": 35,
   "metadata": {},
   "outputs": [
    {
     "data": {
      "text/plain": [
       "count    10032.000000\n",
       "mean         2.698963\n",
       "std          2.055817\n",
       "min         -1.000000\n",
       "25%          2.000000\n",
       "50%          2.000000\n",
       "75%          4.000000\n",
       "max         33.000000\n",
       "Name: garages, dtype: float64"
      ]
     },
     "execution_count": 35,
     "metadata": {},
     "output_type": "execute_result"
    }
   ],
   "source": [
    "data[\"garages\"].describe()"
   ]
  },
  {
   "cell_type": "code",
   "execution_count": 36,
   "metadata": {},
   "outputs": [
    {
     "data": {
      "text/plain": [
       " 2     3596\n",
       " 4     1793\n",
       " 1     1564\n",
       " 3     1444\n",
       "-1      517\n",
       " 5      467\n",
       " 6      336\n",
       " 8      111\n",
       " 7       83\n",
       " 10      62\n",
       " 9       16\n",
       " 12      13\n",
       " 20       8\n",
       " 16       6\n",
       " 33       4\n",
       " 11       4\n",
       " 15       3\n",
       " 21       1\n",
       " 22       1\n",
       " 24       1\n",
       " 30       1\n",
       " 19       1\n",
       "Name: garages, dtype: int64"
      ]
     },
     "execution_count": 36,
     "metadata": {},
     "output_type": "execute_result"
    }
   ],
   "source": [
    "data[\"garages\"].value_counts()"
   ]
  },
  {
   "cell_type": "markdown",
   "metadata": {},
   "source": [
    "### bathroom"
   ]
  },
  {
   "cell_type": "code",
   "execution_count": 37,
   "metadata": {},
   "outputs": [],
   "source": [
    "data.loc[data[\"bathroom\"] == \"not text\", \"bathroom\"] = 2"
   ]
  },
  {
   "cell_type": "code",
   "execution_count": 38,
   "metadata": {},
   "outputs": [],
   "source": [
    "data[\"bathroom\"] = data[\"bathroom\"].astype(int)"
   ]
  },
  {
   "cell_type": "code",
   "execution_count": 39,
   "metadata": {},
   "outputs": [
    {
     "data": {
      "text/plain": [
       "count    10032.00000\n",
       "mean         3.21551\n",
       "std          1.66146\n",
       "min          1.00000\n",
       "25%          2.00000\n",
       "50%          3.00000\n",
       "75%          4.00000\n",
       "max         22.00000\n",
       "Name: bathroom, dtype: float64"
      ]
     },
     "execution_count": 39,
     "metadata": {},
     "output_type": "execute_result"
    }
   ],
   "source": [
    "data[\"bathroom\"].describe()"
   ]
  },
  {
   "cell_type": "code",
   "execution_count": 40,
   "metadata": {},
   "outputs": [
    {
     "data": {
      "text/plain": [
       "<AxesSubplot:xlabel='bathroom'>"
      ]
     },
     "execution_count": 40,
     "metadata": {},
     "output_type": "execute_result"
    },
    {
     "data": {
      "image/png": "[encoded data removed]",
      "text/plain": [
       "<Figure size 432x288 with 1 Axes>"
      ]
     },
     "metadata": {
      "needs_background": "light"
     },
     "output_type": "display_data"
    }
   ],
   "source": [
    "sns.distplot(data[\"bathroom\"])"
   ]
  },
  {
   "cell_type": "markdown",
   "metadata": {},
   "source": [
    "## Feature Selection"
   ]
  },
  {
   "cell_type": "code",
   "execution_count": 41,
   "metadata": {},
   "outputs": [],
   "source": [
    "features_to_keep = [\"bairro\", \"bathroom\", \"garages\", \"rooms\", \"size\", \"iptu\"]\n",
    "continuous_features = [\"iptu\", \"rooms\", \"size\", \"garages\", \"bathroom\"]\n",
    "categorical_features = [\"bairro\"]"
   ]
  },
  {
   "cell_type": "code",
   "execution_count": 42,
   "metadata": {},
   "outputs": [],
   "source": [
    "train = data[features_to_keep]\n",
    "y = data[\"price\"]"
   ]
  },
  {
   "cell_type": "code",
   "execution_count": 43,
   "metadata": {},
   "outputs": [
    {
     "data": {
      "text/html": [
       "<div>\n",
       "<style scoped>\n",
       "    .dataframe tbody tr th:only-of-type {\n",
       "        vertical-align: middle;\n",
       "    }\n",
       "\n",
       "    .dataframe tbody tr th {\n",
       "        vertical-align: top;\n",
       "    }\n",
       "\n",
       "    .dataframe thead th {\n",
       "        text-align: right;\n",
       "    }\n",
       "</style>\n",
       "<table border=\"1\" class=\"dataframe\">\n",
       "  <thead>\n",
       "    <tr style=\"text-align: right;\">\n",
       "      <th></th>\n",
       "      <th>bairro</th>\n",
       "      <th>bathroom</th>\n",
       "      <th>garages</th>\n",
       "      <th>rooms</th>\n",
       "      <th>size</th>\n",
       "      <th>iptu</th>\n",
       "    </tr>\n",
       "  </thead>\n",
       "  <tbody>\n",
       "    <tr>\n",
       "      <th>0</th>\n",
       "      <td>jurere</td>\n",
       "      <td>5</td>\n",
       "      <td>2</td>\n",
       "      <td>5</td>\n",
       "      <td>800.0</td>\n",
       "      <td>6000.0</td>\n",
       "    </tr>\n",
       "    <tr>\n",
       "      <th>1</th>\n",
       "      <td>jurere</td>\n",
       "      <td>4</td>\n",
       "      <td>5</td>\n",
       "      <td>4</td>\n",
       "      <td>300.0</td>\n",
       "      <td>-9999.0</td>\n",
       "    </tr>\n",
       "    <tr>\n",
       "      <th>2</th>\n",
       "      <td>itacorubi</td>\n",
       "      <td>6</td>\n",
       "      <td>4</td>\n",
       "      <td>6</td>\n",
       "      <td>430.0</td>\n",
       "      <td>2800.0</td>\n",
       "    </tr>\n",
       "    <tr>\n",
       "      <th>3</th>\n",
       "      <td>canasvieiras</td>\n",
       "      <td>4</td>\n",
       "      <td>4</td>\n",
       "      <td>5</td>\n",
       "      <td>250.0</td>\n",
       "      <td>1300.0</td>\n",
       "    </tr>\n",
       "    <tr>\n",
       "      <th>4</th>\n",
       "      <td>sao_joao_do_rio_vermelho</td>\n",
       "      <td>2</td>\n",
       "      <td>4</td>\n",
       "      <td>2</td>\n",
       "      <td>200.0</td>\n",
       "      <td>300.0</td>\n",
       "    </tr>\n",
       "  </tbody>\n",
       "</table>\n",
       "</div>"
      ],
      "text/plain": [
       "                     bairro  bathroom  garages  rooms   size    iptu\n",
       "0                    jurere         5        2      5  800.0  6000.0\n",
       "1                    jurere         4        5      4  300.0 -9999.0\n",
       "2                 itacorubi         6        4      6  430.0  2800.0\n",
       "3              canasvieiras         4        4      5  250.0  1300.0\n",
       "4  sao_joao_do_rio_vermelho         2        4      2  200.0   300.0"
      ]
     },
     "execution_count": 43,
     "metadata": {},
     "output_type": "execute_result"
    }
   ],
   "source": [
    "train.head()"
   ]
  },
  {
   "cell_type": "code",
   "execution_count": 44,
   "metadata": {},
   "outputs": [
    {
     "data": {
      "text/plain": [
       "bairro      0\n",
       "bathroom    0\n",
       "garages     0\n",
       "rooms       0\n",
       "size        0\n",
       "iptu        0\n",
       "dtype: int64"
      ]
     },
     "execution_count": 44,
     "metadata": {},
     "output_type": "execute_result"
    }
   ],
   "source": [
    "train.isnull().sum()"
   ]
  },
  {
   "cell_type": "markdown",
   "metadata": {},
   "source": [
    "### Encode"
   ]
  },
  {
   "cell_type": "code",
   "execution_count": 45,
   "metadata": {},
   "outputs": [],
   "source": [
    "from category_encoders import TargetEncoder"
   ]
  },
  {
   "cell_type": "code",
   "execution_count": 46,
   "metadata": {},
   "outputs": [],
   "source": [
    "features_to_encode = categorical_features\n",
    "encoder_params = {\n",
    "    \"cols\": features_to_encode,\n",
    "    \"drop_invariant\": 0,\n",
    "    \"return_df\": 1,\n",
    "    \"handle_unknown\": \"value\",\n",
    "    \"smoothing\": 1,\n",
    "    \"verbose\": 1,\n",
    "}\n",
    "\n",
    "encoder = TargetEncoder(**encoder_params)"
   ]
  },
  {
   "cell_type": "code",
   "execution_count": 47,
   "metadata": {},
   "outputs": [
    {
     "data": {
      "text/plain": [
       "TargetEncoder(cols=['bairro'], drop_invariant=0, handle_missing='value',\n",
       "              handle_unknown='value', min_samples_leaf=1, return_df=1,\n",
       "              smoothing=1.0, verbose=1)"
      ]
     },
     "execution_count": 47,
     "metadata": {},
     "output_type": "execute_result"
    }
   ],
   "source": [
    "encoder.fit(X=train[features_to_encode], y=y.values)"
   ]
  },
  {
   "cell_type": "code",
   "execution_count": 48,
   "metadata": {},
   "outputs": [
    {
     "name": "stderr",
     "output_type": "stream",
     "text": [
      "/home/wb/gitrepos/itau_cartoes_fns_20210220/venv/lib/python3.7/site-packages/pandas/core/indexing.py:966: SettingWithCopyWarning: \n",
      "A value is trying to be set on a copy of a slice from a DataFrame.\n",
      "Try using .loc[row_indexer,col_indexer] = value instead\n",
      "\n",
      "See the caveats in the documentation: https://pandas.pydata.org/pandas-docs/stable/user_guide/indexing.html#returning-a-view-versus-a-copy\n",
      "  self.obj[item] = s\n"
     ]
    }
   ],
   "source": [
    "train.loc[:, features_to_encode] = encoder.transform(train[features_to_encode])"
   ]
  },
  {
   "cell_type": "code",
   "execution_count": 49,
   "metadata": {},
   "outputs": [
    {
     "data": {
      "text/html": [
       "<div>\n",
       "<style scoped>\n",
       "    .dataframe tbody tr th:only-of-type {\n",
       "        vertical-align: middle;\n",
       "    }\n",
       "\n",
       "    .dataframe tbody tr th {\n",
       "        vertical-align: top;\n",
       "    }\n",
       "\n",
       "    .dataframe thead th {\n",
       "        text-align: right;\n",
       "    }\n",
       "</style>\n",
       "<table border=\"1\" class=\"dataframe\">\n",
       "  <thead>\n",
       "    <tr style=\"text-align: right;\">\n",
       "      <th></th>\n",
       "      <th>bairro</th>\n",
       "      <th>bathroom</th>\n",
       "      <th>garages</th>\n",
       "      <th>rooms</th>\n",
       "      <th>size</th>\n",
       "      <th>iptu</th>\n",
       "    </tr>\n",
       "  </thead>\n",
       "  <tbody>\n",
       "    <tr>\n",
       "      <th>0</th>\n",
       "      <td>4.581730e+06</td>\n",
       "      <td>5</td>\n",
       "      <td>2</td>\n",
       "      <td>5</td>\n",
       "      <td>800.0</td>\n",
       "      <td>6000.0</td>\n",
       "    </tr>\n",
       "    <tr>\n",
       "      <th>1</th>\n",
       "      <td>4.581730e+06</td>\n",
       "      <td>4</td>\n",
       "      <td>5</td>\n",
       "      <td>4</td>\n",
       "      <td>300.0</td>\n",
       "      <td>-9999.0</td>\n",
       "    </tr>\n",
       "    <tr>\n",
       "      <th>2</th>\n",
       "      <td>1.440262e+06</td>\n",
       "      <td>6</td>\n",
       "      <td>4</td>\n",
       "      <td>6</td>\n",
       "      <td>430.0</td>\n",
       "      <td>2800.0</td>\n",
       "    </tr>\n",
       "    <tr>\n",
       "      <th>3</th>\n",
       "      <td>1.016602e+06</td>\n",
       "      <td>4</td>\n",
       "      <td>4</td>\n",
       "      <td>5</td>\n",
       "      <td>250.0</td>\n",
       "      <td>1300.0</td>\n",
       "    </tr>\n",
       "    <tr>\n",
       "      <th>4</th>\n",
       "      <td>3.997432e+05</td>\n",
       "      <td>2</td>\n",
       "      <td>4</td>\n",
       "      <td>2</td>\n",
       "      <td>200.0</td>\n",
       "      <td>300.0</td>\n",
       "    </tr>\n",
       "  </tbody>\n",
       "</table>\n",
       "</div>"
      ],
      "text/plain": [
       "         bairro  bathroom  garages  rooms   size    iptu\n",
       "0  4.581730e+06         5        2      5  800.0  6000.0\n",
       "1  4.581730e+06         4        5      4  300.0 -9999.0\n",
       "2  1.440262e+06         6        4      6  430.0  2800.0\n",
       "3  1.016602e+06         4        4      5  250.0  1300.0\n",
       "4  3.997432e+05         2        4      2  200.0   300.0"
      ]
     },
     "execution_count": 49,
     "metadata": {},
     "output_type": "execute_result"
    }
   ],
   "source": [
    "train.head()"
   ]
  },
  {
   "cell_type": "markdown",
   "metadata": {},
   "source": [
    "### Scaling"
   ]
  },
  {
   "cell_type": "code",
   "execution_count": 50,
   "metadata": {},
   "outputs": [],
   "source": [
    "from sklearn.preprocessing import StandardScaler"
   ]
  },
  {
   "cell_type": "code",
   "execution_count": 51,
   "metadata": {},
   "outputs": [
    {
     "data": {
      "text/plain": [
       "StandardScaler(copy=True, with_mean=True, with_std=True)"
      ]
     },
     "execution_count": 51,
     "metadata": {},
     "output_type": "execute_result"
    }
   ],
   "source": [
    "scaler = StandardScaler()\n",
    "scaler.fit(train)"
   ]
  },
  {
   "cell_type": "code",
   "execution_count": 52,
   "metadata": {},
   "outputs": [
    {
     "name": "stderr",
     "output_type": "stream",
     "text": [
      "/home/wb/gitrepos/itau_cartoes_fns_20210220/venv/lib/python3.7/site-packages/pandas/core/indexing.py:966: SettingWithCopyWarning: \n",
      "A value is trying to be set on a copy of a slice from a DataFrame.\n",
      "Try using .loc[row_indexer,col_indexer] = value instead\n",
      "\n",
      "See the caveats in the documentation: https://pandas.pydata.org/pandas-docs/stable/user_guide/indexing.html#returning-a-view-versus-a-copy\n",
      "  self.obj[item] = s\n"
     ]
    }
   ],
   "source": [
    "train.loc[:, :] = scaler.transform(train)"
   ]
  },
  {
   "cell_type": "code",
   "execution_count": 53,
   "metadata": {},
   "outputs": [
    {
     "data": {
      "text/html": [
       "<div>\n",
       "<style scoped>\n",
       "    .dataframe tbody tr th:only-of-type {\n",
       "        vertical-align: middle;\n",
       "    }\n",
       "\n",
       "    .dataframe tbody tr th {\n",
       "        vertical-align: top;\n",
       "    }\n",
       "\n",
       "    .dataframe thead th {\n",
       "        text-align: right;\n",
       "    }\n",
       "</style>\n",
       "<table border=\"1\" class=\"dataframe\">\n",
       "  <thead>\n",
       "    <tr style=\"text-align: right;\">\n",
       "      <th></th>\n",
       "      <th>bairro</th>\n",
       "      <th>bathroom</th>\n",
       "      <th>garages</th>\n",
       "      <th>rooms</th>\n",
       "      <th>size</th>\n",
       "      <th>iptu</th>\n",
       "    </tr>\n",
       "  </thead>\n",
       "  <tbody>\n",
       "    <tr>\n",
       "      <th>0</th>\n",
       "      <td>2.923034</td>\n",
       "      <td>1.074103</td>\n",
       "      <td>-0.340010</td>\n",
       "      <td>1.141567</td>\n",
       "      <td>0.065991</td>\n",
       "      <td>1.599936</td>\n",
       "    </tr>\n",
       "    <tr>\n",
       "      <th>1</th>\n",
       "      <td>2.923034</td>\n",
       "      <td>0.472192</td>\n",
       "      <td>1.119336</td>\n",
       "      <td>0.368083</td>\n",
       "      <td>-0.014875</td>\n",
       "      <td>-0.882565</td>\n",
       "    </tr>\n",
       "    <tr>\n",
       "      <th>2</th>\n",
       "      <td>0.109008</td>\n",
       "      <td>1.676013</td>\n",
       "      <td>0.632888</td>\n",
       "      <td>1.915050</td>\n",
       "      <td>0.006150</td>\n",
       "      <td>1.103404</td>\n",
       "    </tr>\n",
       "    <tr>\n",
       "      <th>3</th>\n",
       "      <td>-0.270493</td>\n",
       "      <td>0.472192</td>\n",
       "      <td>0.632888</td>\n",
       "      <td>1.141567</td>\n",
       "      <td>-0.022962</td>\n",
       "      <td>0.870655</td>\n",
       "    </tr>\n",
       "    <tr>\n",
       "      <th>4</th>\n",
       "      <td>-0.823056</td>\n",
       "      <td>-0.731628</td>\n",
       "      <td>0.632888</td>\n",
       "      <td>-1.178884</td>\n",
       "      <td>-0.031049</td>\n",
       "      <td>0.715489</td>\n",
       "    </tr>\n",
       "  </tbody>\n",
       "</table>\n",
       "</div>"
      ],
      "text/plain": [
       "     bairro  bathroom   garages     rooms      size      iptu\n",
       "0  2.923034  1.074103 -0.340010  1.141567  0.065991  1.599936\n",
       "1  2.923034  0.472192  1.119336  0.368083 -0.014875 -0.882565\n",
       "2  0.109008  1.676013  0.632888  1.915050  0.006150  1.103404\n",
       "3 -0.270493  0.472192  0.632888  1.141567 -0.022962  0.870655\n",
       "4 -0.823056 -0.731628  0.632888 -1.178884 -0.031049  0.715489"
      ]
     },
     "execution_count": 53,
     "metadata": {},
     "output_type": "execute_result"
    }
   ],
   "source": [
    "train.head()"
   ]
  },
  {
   "cell_type": "markdown",
   "metadata": {},
   "source": [
    "### ML Regression Model"
   ]
  },
  {
   "cell_type": "code",
   "execution_count": 54,
   "metadata": {},
   "outputs": [],
   "source": [
    "from sklearn.ensemble import RandomForestRegressor"
   ]
  },
  {
   "cell_type": "code",
   "execution_count": 55,
   "metadata": {},
   "outputs": [],
   "source": [
    "model = RandomForestRegressor(max_depth=7, n_estimators=250, max_features=\"sqrt\")"
   ]
  },
  {
   "cell_type": "code",
   "execution_count": 56,
   "metadata": {},
   "outputs": [
    {
     "data": {
      "text/plain": [
       "RandomForestRegressor(bootstrap=True, ccp_alpha=0.0, criterion='mse',\n",
       "                      max_depth=7, max_features='sqrt', max_leaf_nodes=None,\n",
       "                      max_samples=None, min_impurity_decrease=0.0,\n",
       "                      min_impurity_split=None, min_samples_leaf=1,\n",
       "                      min_samples_split=2, min_weight_fraction_leaf=0.0,\n",
       "                      n_estimators=250, n_jobs=None, oob_score=False,\n",
       "                      random_state=None, verbose=0, warm_start=False)"
      ]
     },
     "execution_count": 56,
     "metadata": {},
     "output_type": "execute_result"
    }
   ],
   "source": [
    "model.fit(X=train, y=y)"
   ]
  },
  {
   "cell_type": "markdown",
   "metadata": {},
   "source": [
    "### Prediction"
   ]
  },
  {
   "cell_type": "code",
   "execution_count": 57,
   "metadata": {},
   "outputs": [],
   "source": [
    "d = {\"address\": [\"campeche\"], \"bathroom\": [2], \"garages\": [1], \"rooms\": [2], \"size\": [88], \"iptu\": [270]}\n",
    "test = pd.DataFrame(data=d)"
   ]
  },
  {
   "cell_type": "code",
   "execution_count": 58,
   "metadata": {},
   "outputs": [
    {
     "data": {
      "text/html": [
       "<div>\n",
       "<style scoped>\n",
       "    .dataframe tbody tr th:only-of-type {\n",
       "        vertical-align: middle;\n",
       "    }\n",
       "\n",
       "    .dataframe tbody tr th {\n",
       "        vertical-align: top;\n",
       "    }\n",
       "\n",
       "    .dataframe thead th {\n",
       "        text-align: right;\n",
       "    }\n",
       "</style>\n",
       "<table border=\"1\" class=\"dataframe\">\n",
       "  <thead>\n",
       "    <tr style=\"text-align: right;\">\n",
       "      <th></th>\n",
       "      <th>address</th>\n",
       "      <th>bathroom</th>\n",
       "      <th>garages</th>\n",
       "      <th>rooms</th>\n",
       "      <th>size</th>\n",
       "      <th>iptu</th>\n",
       "    </tr>\n",
       "  </thead>\n",
       "  <tbody>\n",
       "    <tr>\n",
       "      <th>0</th>\n",
       "      <td>campeche</td>\n",
       "      <td>2</td>\n",
       "      <td>1</td>\n",
       "      <td>2</td>\n",
       "      <td>88</td>\n",
       "      <td>270</td>\n",
       "    </tr>\n",
       "  </tbody>\n",
       "</table>\n",
       "</div>"
      ],
      "text/plain": [
       "    address  bathroom  garages  rooms  size  iptu\n",
       "0  campeche         2        1      2    88   270"
      ]
     },
     "execution_count": 58,
     "metadata": {},
     "output_type": "execute_result"
    }
   ],
   "source": [
    "test.head()"
   ]
  },
  {
   "cell_type": "code",
   "execution_count": 59,
   "metadata": {},
   "outputs": [],
   "source": [
    "map_bairro(test)\n",
    "# format_iptu(test)\n",
    "test[\"rooms\"] = test[\"rooms\"].astype(int)\n",
    "test[\"bathroom\"] = test[\"bathroom\"].astype(int)\n",
    "test[\"garages\"] = test[\"garages\"].astype(int)\n",
    "\n",
    "test = test[features_to_keep]\n",
    "test.loc[:, features_to_encode] = encoder.transform(test[features_to_encode])\n",
    "test.loc[:, :] = scaler.transform(test)"
   ]
  },
  {
   "cell_type": "code",
   "execution_count": 60,
   "metadata": {},
   "outputs": [
    {
     "data": {
      "text/html": [
       "<div>\n",
       "<style scoped>\n",
       "    .dataframe tbody tr th:only-of-type {\n",
       "        vertical-align: middle;\n",
       "    }\n",
       "\n",
       "    .dataframe tbody tr th {\n",
       "        vertical-align: top;\n",
       "    }\n",
       "\n",
       "    .dataframe thead th {\n",
       "        text-align: right;\n",
       "    }\n",
       "</style>\n",
       "<table border=\"1\" class=\"dataframe\">\n",
       "  <thead>\n",
       "    <tr style=\"text-align: right;\">\n",
       "      <th></th>\n",
       "      <th>bairro</th>\n",
       "      <th>bathroom</th>\n",
       "      <th>garages</th>\n",
       "      <th>rooms</th>\n",
       "      <th>size</th>\n",
       "      <th>iptu</th>\n",
       "    </tr>\n",
       "  </thead>\n",
       "  <tbody>\n",
       "    <tr>\n",
       "      <th>0</th>\n",
       "      <td>-0.329293</td>\n",
       "      <td>-0.731628</td>\n",
       "      <td>-0.826459</td>\n",
       "      <td>-1.178884</td>\n",
       "      <td>-0.049163</td>\n",
       "      <td>0.710835</td>\n",
       "    </tr>\n",
       "  </tbody>\n",
       "</table>\n",
       "</div>"
      ],
      "text/plain": [
       "     bairro  bathroom   garages     rooms      size      iptu\n",
       "0 -0.329293 -0.731628 -0.826459 -1.178884 -0.049163  0.710835"
      ]
     },
     "execution_count": 60,
     "metadata": {},
     "output_type": "execute_result"
    }
   ],
   "source": [
    "test.head()"
   ]
  },
  {
   "cell_type": "code",
   "execution_count": 64,
   "metadata": {},
   "outputs": [
    {
     "data": {
      "text/plain": [
       "array([508958.1])"
      ]
     },
     "execution_count": 64,
     "metadata": {},
     "output_type": "execute_result"
    }
   ],
   "source": [
    "model.predict(test).round(2)"
   ]
  },
  {
   "cell_type": "markdown",
   "metadata": {},
   "source": [
    "### Sanity Test"
   ]
  },
  {
   "cell_type": "code",
   "execution_count": 73,
   "metadata": {},
   "outputs": [],
   "source": [
    "bool1 = data[\"iptu\"] <= 400\n",
    "bool2 = data[\"bairro\"] <= \"campeche\"\n",
    "bool3 = data[\"rooms\"] <= 2\n",
    "bool4 = data[\"bathroom\"] <= 2\n",
    "bool5 = data[\"size\"] <= 130\n",
    "\n",
    "all_bools = (bool1 & bool2 & bool3 & bool4 & bool5)"
   ]
  },
  {
   "cell_type": "code",
   "execution_count": 74,
   "metadata": {},
   "outputs": [
    {
     "data": {
      "text/plain": [
       "96"
      ]
     },
     "execution_count": 74,
     "metadata": {},
     "output_type": "execute_result"
    }
   ],
   "source": [
    "data.loc[all_bools, \"price\"].count()"
   ]
  },
  {
   "cell_type": "code",
   "execution_count": 75,
   "metadata": {},
   "outputs": [
    {
     "data": {
      "text/plain": [
       "555415.3541666666"
      ]
     },
     "execution_count": 75,
     "metadata": {},
     "output_type": "execute_result"
    }
   ],
   "source": [
    "data.loc[all_bools, \"price\"].mean()"
   ]
  },
  {
   "cell_type": "code",
   "execution_count": 76,
   "metadata": {},
   "outputs": [
    {
     "data": {
      "text/plain": [
       "500000.0"
      ]
     },
     "execution_count": 76,
     "metadata": {},
     "output_type": "execute_result"
    }
   ],
   "source": [
    "data.loc[all_bools, \"price\"].median()"
   ]
  },
  {
   "cell_type": "code",
   "execution_count": 77,
   "metadata": {},
   "outputs": [
    {
     "data": {
      "text/plain": [
       "<AxesSubplot:xlabel='price'>"
      ]
     },
     "execution_count": 77,
     "metadata": {},
     "output_type": "execute_result"
    },
    {
     "data": {
      "image/png": "[encoded data removed]",
      "text/plain": [
       "<Figure size 432x288 with 1 Axes>"
      ]
     },
     "metadata": {
      "needs_background": "light"
     },
     "output_type": "display_data"
    }
   ],
   "source": [
    "sns.distplot(data.loc[all_bools, \"price\"])"
   ]
  },
  {
   "cell_type": "markdown",
   "metadata": {},
   "source": [
    "### Esta previsao parece bem coerente!"
   ]
  }
 ],
 "metadata": {
  "kernelspec": {
   "display_name": "venv",
   "language": "python",
   "name": "venv"
  },
  "language_info": {
   "codemirror_mode": {
    "name": "ipython",
    "version": 3
   },
   "file_extension": ".py",
   "mimetype": "text/x-python",
   "name": "python",
   "nbconvert_exporter": "python",
   "pygments_lexer": "ipython3",
   "version": "3.7.10"
  }
 },
 "nbformat": 4,
 "nbformat_minor": 4
}
